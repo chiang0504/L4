{
 "cells": [
  {
   "cell_type": "markdown",
   "metadata": {},
   "source": [
    "# 透過 Python 擷取網頁上的資料 (臺股爬蟲)"
   ]
  },
  {
   "cell_type": "markdown",
   "metadata": {},
   "source": [
    "在大數據變成顯學的時代，從網路上蒐集資料這個議題也變得更加重要，只需一個簡單的程式，就能透過低成本並且自動化的方式獲得大量的資料，因此學習與實作網頁爬蟲成為一個投資報酬率極高的事務，而用 Python 讓實作爬蟲變得非常簡單\n",
    "\n",
    "## 在體驗 Python 實作爬蟲的強大前，我們先來參考 Excel 現有的解法\n",
    "Excel 其實有內建一個擷取網頁資料的功能，進入**資料** > **從 web 擷取資料**\n",
    "\n",
    "![](https://www.dropbox.com/s/kzblclnr74d469h/excel_web_scraping.PNG?dl=1)\n",
    "\n",
    "若要用 VBA 實作這個功能，則可以選擇用 **querytable**\n",
    "\n",
    "## 但是，這個看似強大的功能卻有一個嚴重的問題\n",
    "\n",
    "- querytable / 從 web 匯入資料因爲核心是透過 IE 運作, 效能**非常慢！**\n"
   ]
  },
  {
   "cell_type": "markdown",
   "metadata": {},
   "source": [
    "\n",
    "## 用 Python 實作爬蟲\n",
    "\n",
    "Python 用來實作爬蟲的兩個主流套件：\n",
    "\n",
    "- BeautifulSoup [官方文件](https://www.crummy.com/software/BeautifulSoup/bs4/doc.zh/)\n",
    "\n",
    "- PyQuery [官方文件](https://pythonhosted.org/pyquery/)\n",
    "\n",
    "**BeautifulSoup** 是比較貼近**程式設計師**的角度去思考\n",
    "\n",
    "**PyQuery** 貼近**網頁開發者**的角度去思考\n",
    "\n",
    "## 範例網頁：\n",
    "\n",
    "[連結](http://pythonscraping.com/pages/warandpeace.html)"
   ]
  },
  {
   "cell_type": "code",
   "execution_count": 1,
   "metadata": {},
   "outputs": [
    {
     "name": "stdout",
     "output_type": "stream",
     "text": [
      "Collecting pyquery\n",
      "  Downloading https://files.pythonhosted.org/packages/09/c7/ce8c9c37ab8ff8337faad3335c088d60bed4a35a4bed33a64f0e64fbcf29/pyquery-1.4.0-py2.py3-none-any.whl\n",
      "Requirement already satisfied: lxml>=2.1 in c:\\programdata\\anaconda3\\lib\\site-packages (from pyquery)\n",
      "Collecting cssselect>0.7.9 (from pyquery)\n",
      "  Downloading https://files.pythonhosted.org/packages/7b/44/25b7283e50585f0b4156960691d951b05d061abf4a714078393e51929b30/cssselect-1.0.3-py2.py3-none-any.whl\n",
      "Installing collected packages: cssselect, pyquery\n",
      "Successfully installed cssselect-1.0.3 pyquery-1.4.0\n"
     ]
    },
    {
     "name": "stderr",
     "output_type": "stream",
     "text": [
      "You are using pip version 9.0.1, however version 18.1 is available.\n",
      "You should consider upgrading via the 'python -m pip install --upgrade pip' command.\n"
     ]
    }
   ],
   "source": [
    "!pip install pyquery"
   ]
  },
  {
   "cell_type": "code",
   "execution_count": 2,
   "metadata": {
    "scrolled": true
   },
   "outputs": [
    {
     "name": "stdout",
     "output_type": "stream",
     "text": [
      "<html>\n",
      "<head>\n",
      "<style>\n",
      ".green{\n",
      "\tcolor:#55ff55;\n",
      "}\n",
      ".red{\n",
      "\tcolor:#ff5555;\n",
      "}\n",
      "#text{\n",
      "\twidth:50%;\n",
      "}\n",
      "</style>\n",
      "</head>\n",
      "<body>\n",
      "<h1>War and Peace</h1>\n",
      "<h2>Chapter 1</h2>\n",
      "<div id=\"text\">\n",
      "\"<span class=\"red\">Well, Prince, so Genoa and Lucca are now just family estates of the\n",
      "Buonapartes. But I warn you, if you don't tell me that this means war,\n",
      "if you still try to defend the infamies and horrors perpetrated by\n",
      "that Antichrist- I really believe he is Antichrist- I will have\n",
      "nothing more to do with you and you are no longer my friend, no longer\n",
      "my 'faithful slave,' as you call yourself! But how do you do? I see\n",
      "I have frightened you- sit down and tell me all the news.</span>\"\n",
      "<p/>\n",
      "It was in July, 1805, and the speaker was the well-known <span class=\"green\">Anna\n",
      "Pavlovna Scherer</span>, maid of honor and favorite of the <span class=\"green\">Empress Marya\n",
      "Fedorovna</span>. With these words she greeted <span class=\"green\">Prince Vasili Kuragin</span>, a man\n",
      "of high rank and importance, who was the first to arrive at her\n",
      "reception. <span class=\"green\">Anna Pavlovna</span> had had a cough for some days. She was, as\n",
      "she said, suffering from la grippe; grippe being then a new word in\n",
      "<span class=\"green\">St. Petersburg</span>, used only by the elite.\n",
      "<p/>\n",
      "All her invitations without exception, written in French, and\n",
      "delivered by a scarlet-liveried footman that morning, ran as follows:\n",
      "<p/>\n",
      "\"<span class=\"red\">If you have nothing better to do, Count [or Prince], and if the\n",
      "prospect of spending an evening with a poor invalid is not too\n",
      "terrible, I shall be very charmed to see you tonight between 7 and 10-\n",
      "Annette Scherer.</span>\"\n",
      "<p/>\n",
      "\"<span class=\"red\">Heavens! what a virulent attack!</span>\" replied <span class=\"green\">the prince</span>, not in the\n",
      "least disconcerted by this reception. He had just entered, wearing\n",
      "an embroidered court uniform, knee breeches, and shoes, and had\n",
      "stars on his breast and a serene expression on his flat face. He spoke\n",
      "in that refined French in which our grandfathers not only spoke but\n",
      "thought, and with the gentle, patronizing intonation natural to a\n",
      "man of importance who had grown old in society and at court. He went\n",
      "up to <span class=\"green\">Anna Pavlovna</span>, kissed her hand, presenting to her his bald,\n",
      "scented, and shining head, and complacently seated himself on the\n",
      "sofa.\n",
      "<p/>\n",
      "\"<span class=\"red\">First of all, dear friend, tell me how you are. Set your friend's\n",
      "mind at rest,</span>\" said he without altering his tone, beneath the\n",
      "politeness and affected sympathy of which indifference and even\n",
      "irony could be discerned.\n",
      "<p/>\n",
      "\"<span class=\"red\">Can one be well while suffering morally? Can one be calm in times\n",
      "like these if one has any feeling?</span>\" said <span class=\"green\">Anna Pavlovna</span>. \"<span class=\"red\">You are\n",
      "staying the whole evening, I hope?</span>\"\n",
      "<p/>\n",
      "\"<span class=\"red\">And the fete at the English ambassador's? Today is Wednesday. I\n",
      "must put in an appearance there,</span>\" said <span class=\"green\">the prince</span>. \"<span class=\"red\">My daughter is\n",
      "coming for me to take me there.</span>\"\n",
      "<p/>\n",
      "\"<span class=\"red\">I thought today's fete had been canceled. I confess all these\n",
      "festivities and fireworks are becoming wearisome.</span>\"\n",
      "<p/>\n",
      "\"<span class=\"red\">If they had known that you wished it, the entertainment would\n",
      "have been put off,</span>\" said <span class=\"green\">the prince</span>, who, like a wound-up clock, by\n",
      "force of habit said things he did not even wish to be believed.\n",
      "<p/>\n",
      "\"<span class=\"red\">Don't tease! Well, and what has been decided about Novosiltsev's\n",
      "dispatch? You know everything.</span>\"\n",
      "<p/>\n",
      "\"<span class=\"red\">What can one say about it?</span>\" replied <span class=\"green\">the prince</span> in a cold,\n",
      "listless tone. \"<span class=\"red\">What has been decided? They have decided that\n",
      "Buonaparte has burnt his boats, and I believe that we are ready to\n",
      "burn ours.</span>\"\n",
      "<p/>\n",
      "<span class=\"green\">Prince Vasili</span> always spoke languidly, like an actor repeating a\n",
      "stale part. <span class=\"green\">Anna Pavlovna</span> Scherer on the contrary, despite her forty\n",
      "years, overflowed with animation and impulsiveness. To be an\n",
      "enthusiast had become her social vocation and, sometimes even when she\n",
      "did not feel like it, she became enthusiastic in order not to\n",
      "disappoint the expectations of those who knew her. The subdued smile\n",
      "which, though it did not suit her faded features, always played\n",
      "round her lips expressed, as in a spoiled child, a continual\n",
      "consciousness of her charming defect, which she neither wished, nor\n",
      "could, nor considered it necessary, to correct.\n",
      "<p/>\n",
      "In the midst of a conversation on political matters <span class=\"green\">Anna Pavlovna</span>\n",
      "burst out:\n",
      "<p/>\n",
      "\"<span class=\"red\">Oh, don't speak to me of Austria. Perhaps I don't understand\n",
      "things, but Austria never has wished, and does not wish, for war.\n",
      "She is betraying us! Russia alone must save Europe. Our gracious\n",
      "sovereign recognizes his high vocation and will be true to it. That is\n",
      "the one thing I have faith in! Our good and wonderful sovereign has to\n",
      "perform the noblest role on earth, and he is so virtuous and noble\n",
      "that God will not forsake him. He will fulfill his vocation and\n",
      "crush the hydra of revolution, which has become more terrible than\n",
      "ever in the person of this murderer and villain! We alone must\n",
      "avenge the blood of the just one.... Whom, I ask you, can we rely\n",
      "on?... England with her commercial spirit will not and cannot\n",
      "understand the Emperor Alexander's loftiness of soul. She has\n",
      "refused to evacuate Malta. She wanted to find, and still seeks, some\n",
      "secret motive in our actions. What answer did Novosiltsev get? None.\n",
      "The English have not understood and cannot understand the\n",
      "self-abnegation of our Emperor who wants nothing for himself, but only\n",
      "desires the good of mankind. And what have they promised? Nothing! And\n",
      "what little they have promised they will not perform! Prussia has\n",
      "always declared that Buonaparte is invincible, and that all Europe\n",
      "is powerless before him.... And I don't believe a word that Hardenburg\n",
      "says, or Haugwitz either. This famous Prussian neutrality is just a\n",
      "trap. I have faith only in God and the lofty destiny of our adored\n",
      "monarch. He will save Europe!</span>\"\n",
      "<p/>\n",
      "She suddenly paused, smiling at her own impetuosity.\n",
      "<p/>\n",
      "\"<span class=\"red\">I think,</span>\" said <span class=\"green\">the prince</span> with a smile, \"<span class=\"red\">that if you had been\n",
      "sent instead of our dear <span class=\"green\">Wintzingerode</span> you would have captured the\n",
      "<span class=\"green\">King of Prussia</span>'s consent by assault. You are so eloquent. Will you\n",
      "give me a cup of tea?</span>\"\n",
      "<p/>\n",
      "\"<span class=\"red\">In a moment. A propos,</span>\" she added, becoming calm again, \"<span class=\"red\">I am\n",
      "expecting two very interesting men tonight, <span class=\"green\">le Vicomte de Mortemart</span>,\n",
      "who is connected with the <span class=\"green\">Montmorencys</span> through the <span class=\"green\">Rohans</span>, one of\n",
      "the best French families. He is one of the genuine emigres, the good\n",
      "ones. And also the <span class=\"green\">Abbe Morio</span>. Do you know that profound thinker? He\n",
      "has been received by <span class=\"green\">the Emperor</span>. Had you heard?</span>\"\n",
      "<p/>\n",
      "\"<span class=\"red\">I shall be delighted to meet them,</span>\" said <span class=\"green\">the prince</span>. \"<span class=\"red\">But tell me,</span>\"\n",
      "he added with studied carelessness as if it had only just occurred\n",
      "to him, though the question he was about to ask was the chief motive\n",
      "of his visit, \"<span class=\"red\">is it true that the Dowager Empress wants Baron Funke\n",
      "to be appointed first secretary at Vienna? The baron by all accounts\n",
      "is a poor creature.</span>\"\n",
      "<p/>\n",
      "<span class=\"green\">Prince Vasili</span> wished to obtain this post for his son, but others\n",
      "were trying through the <span class=\"green\">Dowager Empress Marya Fedorovna</span> to secure it\n",
      "for <span class=\"green\">the baron</span>.\n",
      "<p/>\n",
      "<span class=\"green\">Anna Pavlovna</span> almost closed her eyes to indicate that neither she\n",
      "nor anyone else had a right to criticize what <span class=\"green\">the Empress</span> desired or\n",
      "was pleased with.\n",
      "<p/>\n",
      "\"<span class=\"red\">Baron Funke has been recommended to the Dowager Empress by her\n",
      "sister,</span>\" was all she said, in a dry and mournful tone.\n",
      "<p/>\n",
      "As she named <span class=\"green\">the Empress</span>, <span class=\"green\">Anna Pavlovna's</span> face suddenly assumed an\n",
      "expression of profound and sincere devotion and respect mingled with\n",
      "sadness, and this occurred every time she mentioned her illustrious\n",
      "patroness. She added that <span class=\"green\">Her Majesty</span> had deigned to show <span class=\"green\">Baron\n",
      "Funke</span>, and again her face clouded over with sadness.\n",
      "<p/>\n",
      "<span class=\"green\">The prince</span> was silent and looked indifferent. But, with the\n",
      "womanly and courtierlike quickness and tact habitual to her, <span class=\"green\">Anna\n",
      "Pavlovna</span> wished both to rebuke him (for daring to speak he had done of\n",
      "a man recommended to <span class=\"green\">the Empress</span>) and at the same time to console him,\n",
      "so she said:\n",
      "<p/>\n",
      "\"<span class=\"red\">Now about your family. Do you know that since your daughter came\n",
      "out everyone has been enraptured by her? They say she is amazingly\n",
      "beautiful.</span>\"\n",
      "<p/>\n",
      "<span class=\"green\">The prince</span> bowed to signify his respect and gratitude.\n",
      "<p/>\n",
      "\"<span class=\"red\">I often think,</span>\" she continued after a short pause, drawing nearer\n",
      "to the prince and smiling amiably at him as if to show that\n",
      "political and social topics were ended and the time had come for\n",
      "intimate conversation- \"<span class=\"red\">I often think how unfairly sometimes the\n",
      "joys of life are distributed. Why has fate given you two such splendid\n",
      "children? I don't speak of <span class=\"green\">Anatole</span>, your youngest. I don't like\n",
      "him,</span>\" she added in a tone admitting of no rejoinder and raising her\n",
      "eyebrows. \"<span class=\"red\">Two such charming children. And really you appreciate\n",
      "them less than anyone, and so you don't deserve to have them.</span>\"\n",
      "<p/>\n",
      "And she smiled her ecstatic smile.\n",
      "<p/>\n",
      "\"<span class=\"red\">I can't help it,</span>\" said <span class=\"green\">the prince</span>. \"<span class=\"red\">Lavater would have said I\n",
      "lack the bump of paternity.</span>\"\n",
      "<p/>\n",
      "\"<span class=\"red\">Don't joke; I mean to have a serious talk with you. Do you know I\n",
      "am dissatisfied with your younger son? Between ourselves</span>\" (and her\n",
      "face assumed its melancholy expression), \"<span class=\"red\">he was mentioned at Her\n",
      "Majesty's and you were pitied....</span>\"\n",
      "<p/>\n",
      "<span class=\"green\">The prince</span> answered nothing, but she looked at him significantly,\n",
      "awaiting a reply. He frowned.\n",
      "<p/>\n",
      "\"<span class=\"red\">What would you have me do?</span>\" he said at last. \"<span class=\"red\">You know I did all\n",
      "a father could for their education, and they have both turned out\n",
      "fools. Hippolyte is at least a quiet fool, but Anatole is an active\n",
      "one. That is the only difference between them.</span>\" He said this smiling\n",
      "in a way more natural and animated than usual, so that the wrinkles\n",
      "round his mouth very clearly revealed something unexpectedly coarse\n",
      "and unpleasant.\n",
      "<p/>\n",
      "\"<span class=\"red\">And why are children born to such men as you? If you were not a\n",
      "father there would be nothing I could reproach you with,</span>\" said <span class=\"green\">Anna\n",
      "Pavlovna</span>, looking up pensively.\n",
      "<p/>\n",
      "\"<span class=\"red\">I am your faithful slave and to you alone I can confess that my\n",
      "children are the bane of my life. It is the cross I have to bear. That\n",
      "is how I explain it to myself. It can't be helped!</span>\"\n",
      "<p/>\n",
      "He said no more, but expressed his resignation to cruel fate by a\n",
      "gesture. <span class=\"green\">Anna Pavlovna</span> meditated.\n",
      "</div>\n",
      "</body>\n",
      "</html>\n"
     ]
    }
   ],
   "source": [
    "# 使用 from 套件名稱 import 模組名稱 as 別名\n",
    "# from pyquery import PyQuery as pq\n",
    "from pyquery import PyQuery as pq\n",
    "\n",
    "\n",
    "url = \"http://pythonscraping.com/pages/warandpeace.html\"\n",
    "\n",
    "# 抓取頁面，存入html變數\n",
    "html = pq(\"http://pythonscraping.com/pages/warandpeace.html\")\n",
    "\n",
    "# 可以看到構成整個頁面的 html, css, 與 javascript 的程式碼\n",
    "print(html)"
   ]
  },
  {
   "cell_type": "markdown",
   "metadata": {},
   "source": [
    "## 網頁開發 101\n",
    "\n",
    "任何網頁都是由**標籤(tag)**所組成，基本結構如下\n",
    "```html\n",
    "<標籤名稱 class=\"類別名稱\">內容</標籤名稱>\n",
    "<標籤名稱 id=\"id名稱\">內容</標籤名稱>\n",
    "```\n",
    "今天我們要擷取的任何內容，一定是被包裹在在某一個標籤裡面\n",
    "而今天若網頁開發者需要改變任何一個標籤的**樣式**，就需要用到**css**語法\n",
    "以上面的網頁為例，人名都是以綠色顯示，所以就先宣告一個名為 **green** 的 css 類別:\n",
    "\n",
    "```html\n",
    "<style>\n",
    ".green{\n",
    "\tcolor:#55ff55;\n",
    "}\n",
    "</style>\n",
    "```\n",
    "\n",
    "若今天希望讓一個標籤的内容文字變成綠色，可以使用定義好的 .green 這個 css 類別：\n",
    "\n",
    "```html\n",
    "<span class=\"green\">Prince Vasili Kuragin</span>\n",
    "```\n",
    "\n",
    "*想了解更多 html 可以看一下 Mozilla 官網的教學：[HTML 基礎](https://developer.mozilla.org/zh-TW/docs/Learn/Getting_started_with_the_web/HTML_basics)"
   ]
  },
  {
   "cell_type": "markdown",
   "metadata": {},
   "source": [
    "## 範例網頁\n",
    "\n",
    "![](https://www.dropbox.com/s/c1ztwcc798eas89/warandpeace.PNG?dl=1)\n"
   ]
  },
  {
   "cell_type": "markdown",
   "metadata": {},
   "source": [
    "## 使用 標籤 「類別名稱」取得資料\n",
    "\n",
    "要擷取資料前，首先需要透過方法**選擇**到該標籤\n",
    "\n",
    "這時我們就需要介紹一下在網頁開發裡的強大套件：**jQuery**\n",
    "\n",
    "## jQuery是什麼？\n",
    "在網頁開發領域最被廣汎使用的套件之一。\n",
    "網頁元素取得神器，使用css的選擇器選取元素，只要會css的選法，就能快速找到想要的元素\n",
    "```javascript\n",
    "$('選擇器')\n",
    "```\n",
    "PyQuery 使用類似 jQuery的方式取得資料\n",
    "```python\n",
    "html('選擇器')\n",
    "```\n",
    "\n",
    "## 選擇器基礎語法\n",
    "\n",
    "- 選取類別：使用 **英文句點+類別名稱** \n",
    "\n",
    "例如： **.green**\n",
    "\n",
    "- 選取具有某類別的標籤 **標籤名稱+英文句點+類別名稱** \n",
    "\n",
    "例如： **span.green**\n"
   ]
  },
  {
   "cell_type": "code",
   "execution_count": 3,
   "metadata": {},
   "outputs": [
    {
     "data": {
      "text/plain": [
       "[<span.green>, <span.green>, <span.green>, <span.green>, <span.green>, <span.green>, <span.green>, <span.green>, <span.green>, <span.green>, <span.green>, <span.green>, <span.green>, <span.green>, <span.green>, <span.green>, <span.green>, <span.green>, <span.green>, <span.green>, <span.green>, <span.green>, <span.green>, <span.green>, <span.green>, <span.green>, <span.green>, <span.green>, <span.green>, <span.green>, <span.green>, <span.green>, <span.green>, <span.green>, <span.green>, <span.green>, <span.green>, <span.green>, <span.green>, <span.green>, <span.green>]"
      ]
     },
     "execution_count": 3,
     "metadata": {},
     "output_type": "execute_result"
    }
   ],
   "source": [
    "elements = html(\".green\")\n",
    "\n",
    "elements"
   ]
  },
  {
   "cell_type": "code",
   "execution_count": 5,
   "metadata": {
    "scrolled": true
   },
   "outputs": [
    {
     "data": {
      "text/plain": [
       "[<span.green>, <span.green>, <span.green>, <span.green>, <span.green>, <span.green>, <span.green>, <span.green>, <span.green>, <span.green>, <span.green>, <span.green>, <span.green>, <span.green>, <span.green>, <span.green>, <span.green>, <span.green>, <span.green>, <span.green>, <span.green>, <span.green>, <span.green>, <span.green>, <span.green>, <span.green>, <span.green>, <span.green>, <span.green>, <span.green>, <span.green>, <span.green>, <span.green>, <span.green>, <span.green>, <span.green>, <span.green>, <span.green>, <span.green>, <span.green>, <span.green>]"
      ]
     },
     "execution_count": 5,
     "metadata": {},
     "output_type": "execute_result"
    }
   ],
   "source": [
    "#selector = \"span.green\"\n",
    "selector = \".green\"\n",
    "# 取得所有 class=\"green\" 的 span 標籤\n",
    "# 以 list 形式存入叫做 elements 的變數 \n",
    "elements = html(\".green\")\n",
    "elements"
   ]
  },
  {
   "cell_type": "code",
   "execution_count": 6,
   "metadata": {},
   "outputs": [
    {
     "data": {
      "text/plain": [
       "'Anna\\nPavlovna Scherer'"
      ]
     },
     "execution_count": 6,
     "metadata": {},
     "output_type": "execute_result"
    }
   ],
   "source": [
    "elements[0].text"
   ]
  },
  {
   "cell_type": "code",
   "execution_count": 7,
   "metadata": {},
   "outputs": [
    {
     "name": "stdout",
     "output_type": "stream",
     "text": [
      "<Element span at 0x7cfc458>\n"
     ]
    }
   ],
   "source": [
    "# 取出第一個標籤的文字\n",
    "text = elements[0]\n",
    "print(text) # Anna Pavlovna Scherer"
   ]
  },
  {
   "cell_type": "code",
   "execution_count": 11,
   "metadata": {
    "scrolled": true
   },
   "outputs": [
    {
     "name": "stdout",
     "output_type": "stream",
     "text": [
      "Anna\n",
      "Pavlovna Scherer\n",
      "Empress Marya\n",
      "Fedorovna\n",
      "Prince Vasili Kuragin\n",
      "Anna Pavlovna\n",
      "St. Petersburg\n",
      "the prince\n",
      "Anna Pavlovna\n",
      "Anna Pavlovna\n",
      "the prince\n",
      "the prince\n",
      "the prince\n",
      "Prince Vasili\n",
      "Anna Pavlovna\n",
      "Anna Pavlovna\n",
      "the prince\n",
      "Wintzingerode\n",
      "King of Prussia\n",
      "le Vicomte de Mortemart\n",
      "Montmorencys\n",
      "Rohans\n",
      "Abbe Morio\n",
      "the Emperor\n",
      "the prince\n",
      "Prince Vasili\n",
      "Dowager Empress Marya Fedorovna\n",
      "the baron\n",
      "Anna Pavlovna\n",
      "the Empress\n",
      "the Empress\n",
      "Anna Pavlovna's\n",
      "Her Majesty\n",
      "Baron\n",
      "Funke\n",
      "The prince\n",
      "Anna\n",
      "Pavlovna\n",
      "the Empress\n",
      "The prince\n",
      "Anatole\n",
      "the prince\n",
      "The prince\n",
      "Anna\n",
      "Pavlovna\n",
      "Anna Pavlovna\n"
     ]
    }
   ],
   "source": [
    "# 若想看所有標籤的文字\n",
    "for tag in elements:\n",
    "    print(tag.text)"
   ]
  }
 ],
 "metadata": {
  "kernelspec": {
   "display_name": "Python 3",
   "language": "python",
   "name": "python3"
  },
  "language_info": {
   "codemirror_mode": {
    "name": "ipython",
    "version": 3
   },
   "file_extension": ".py",
   "mimetype": "text/x-python",
   "name": "python",
   "nbconvert_exporter": "python",
   "pygments_lexer": "ipython3",
   "version": "3.6.4"
  }
 },
 "nbformat": 4,
 "nbformat_minor": 2
}
